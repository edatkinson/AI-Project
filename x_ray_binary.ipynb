{
  "nbformat": 4,
  "nbformat_minor": 0,
  "metadata": {
    "colab": {
      "provenance": [],
      "gpuType": "T4",
      "include_colab_link": true
    },
    "kernelspec": {
      "name": "python3",
      "display_name": "Python 3"
    },
    "language_info": {
      "name": "python"
    },
    "accelerator": "GPU"
  },
  "cells": [
    {
      "cell_type": "markdown",
      "metadata": {
        "id": "view-in-github",
        "colab_type": "text"
      },
      "source": [
        "<a href=\"https://colab.research.google.com/github/edatkinson/Prohibited-Item-Detection/blob/main/x_ray_binary.ipynb\" target=\"_parent\"><img src=\"https://colab.research.google.com/assets/colab-badge.svg\" alt=\"Open In Colab\"/></a>"
      ]
    },
    {
      "cell_type": "code",
      "source": [
        "import torch\n",
        "import torchvision\n",
        "import torchvision.transforms as transforms\n",
        "from torchvision import datasets, transforms\n",
        "\n",
        "# Check whether we have a GPU.  Use it if we do.\n",
        "device = torch.device('cuda' if torch.cuda.is_available() else 'cpu')\n",
        "device\n"
      ],
      "metadata": {
        "id": "yt53HwT1i6su",
        "colab": {
          "base_uri": "https://localhost:8080/"
        },
        "outputId": "a8f12876-786a-47e9-e4b8-3b27c8d086ac"
      },
      "execution_count": 4,
      "outputs": [
        {
          "output_type": "execute_result",
          "data": {
            "text/plain": [
              "device(type='cpu')"
            ]
          },
          "metadata": {},
          "execution_count": 4
        }
      ]
    },
    {
      "cell_type": "code",
      "source": [
        "#from google.colab import drive\n",
        "import pandas as pd\n",
        "from PIL import Image\n",
        "import os\n",
        "from torch.utils.data import Dataset\n",
        "\n",
        "# Mount Google Drive\n",
        "#drive.mount('/content/drive')\n",
        "\n",
        "# Navigate to the folder\n",
        "data_dir = 'Users/xd21736/OneDrive - University of Bristol/x_ray_dataset/x_ray_dataset'\n",
        "\n",
        "# Define transforms\n",
        "transform = transforms.Compose([\n",
        "    transforms.Resize((128,128)),\n",
        "    transforms.ToTensor()\n",
        "])\n",
        "\n",
        "# Create dataset class\n",
        "class X_ray_dataset(Dataset):\n",
        "    def __init__(self, annotations_file = os.path.join(data_dir, 'binary_classes.csv'), img_dir = os.path.join(data_dir, 'x_ray_images'), transform = None):\n",
        "        self.img_labels = pd.read_csv(annotations_file)\n",
        "        self.img_dir = img_dir\n",
        "        self.transform = transform\n",
        "\n",
        "    def __len__(self):\n",
        "        return len(self.img_labels)\n",
        "\n",
        "    def __getitem__(self, idx):\n",
        "        img_path = os.path.join(self.img_dir, self.img_labels.iloc[idx, 0])\n",
        "        image = Image.open(img_path)\n",
        "        label = self.img_labels.iloc[idx, 1]\n",
        "        if self.transform:\n",
        "            image = self.transform(image)\n",
        "        return image, label\n",
        "\n",
        "\n"
      ],
      "metadata": {
        "id": "ttSLyl-CUk1t"
      },
      "execution_count": 8,
      "outputs": []
    },
    {
      "cell_type": "code",
      "source": [
        "# Test to see if the class is working\n",
        "x_ray = X_ray_dataset(transform=transform)\n",
        "print('len dataset:', len(x_ray)) # use the __len__ method to show the length of the dataset\n",
        "example = x_ray[0] # use the __getitem__ method to get the first example\n",
        "print(example[0].shape)\n",
        "print('Class:', example[1])"
      ],
      "metadata": {
        "colab": {
          "base_uri": "https://localhost:8080/"
        },
        "id": "9vaN57E357v0",
        "outputId": "4311e4a6-bf88-4a83-dd49-fcacc852d7c5"
      },
      "execution_count": 9,
      "outputs": [
        {
          "output_type": "stream",
          "name": "stdout",
          "text": [
            "len dataset: 9841\n",
            "torch.Size([3, 128, 128])\n",
            "Class: 1\n"
          ]
        }
      ]
    },
    {
      "cell_type": "code",
      "source": [
        "from torch.utils.data import random_split, DataLoader, WeightedRandomSampler\n",
        "\n",
        "x_ray = X_ray_dataset(transform=transform)\n",
        "# Define the size of the training set\n",
        "train_size = int(0.85 * len(x_ray))  # 85% for training\n",
        "\n",
        "# Split the dataset into training and testing sets\n",
        "train_ds, test_ds = random_split(x_ray, [train_size, len(x_ray) - train_size])\n",
        "\n",
        "# Split the training set into train and validation (train ~ 70% (6887), test ~ 15% (1477), val ~ 15% (1477))\n",
        "train_ds, val_ds = random_split(train_ds, [6887, 1477])\n",
        "\n",
        "# Define class labels\n",
        "classes = ('Safe', 'Prohibited')\n",
        "\n",
        "# Define batch size\n",
        "batch_size = 10\n",
        "\n",
        "# Calculate the number of classes in train and val sets\n",
        "class_0_count_train = 0\n",
        "class_1_count_train = 0\n",
        "class_0_count_val = 0\n",
        "class_1_count_val = 0\n",
        "\n",
        "for image, label in train_ds:  # count classes for train\n",
        "    if label == 0:\n",
        "        class_0_count_train += 1\n",
        "    elif label == 1:\n",
        "        class_1_count_train += 1\n",
        "\n",
        "for image, label in val_ds:  # count classes for validation\n",
        "    if label == 0:\n",
        "        class_0_count_val += 1\n",
        "    elif label == 1:\n",
        "        class_1_count_val += 1\n",
        "\n",
        "# Extract the class labels from the dataset\n",
        "train_targets = torch.tensor([label for _, label in train_ds])\n",
        "val_targets = torch.tensor([label for _, label in val_ds])\n",
        "\n",
        "# Calculate weights for each class\n",
        "class_sample_count = torch.tensor([class_0_count_train, class_1_count_train])\n",
        "weight = 1. / class_sample_count.float()\n",
        "samples_weight = torch.tensor([weight[t] for t in train_targets])\n",
        "\n",
        "# WeightedRandomSampler for training set\n",
        "train_sampler = WeightedRandomSampler(weights=samples_weight, num_samples=len(samples_weight), replacement=True)\n",
        "\n",
        "# For validation, you can repeat the process if you want stratified sampling there as well\n",
        "val_class_sample_count = torch.tensor([class_0_count_val, class_1_count_val])\n",
        "val_weight = 1. / val_class_sample_count.float()\n",
        "val_samples_weight = torch.tensor([val_weight[t] for t in val_targets])\n",
        "\n",
        "val_sampler = WeightedRandomSampler(weights=val_samples_weight, num_samples=len(val_samples_weight), replacement=True)\n",
        "\n",
        "# Data loaders with stratified sampling\n",
        "train_loader = DataLoader(train_ds,\n",
        "                          batch_size=10,\n",
        "                          sampler=train_sampler,\n",
        "                          shuffle = False)  # don't shuffle with stratified sampling\n",
        "test_loader = DataLoader(test_ds,\n",
        "                         batch_size = batch_size*5,\n",
        "                         shuffle = False)\n",
        "val_loader = DataLoader(val_ds,\n",
        "                        batch_size=10*5,\n",
        "                        sampler=val_sampler,\n",
        "                        shuffle = False)"
      ],
      "metadata": {
        "id": "KGNZU47k3nyS"
      },
      "execution_count": 10,
      "outputs": []
    },
    {
      "cell_type": "code",
      "source": [
        "import torch.nn as nn\n",
        "\n",
        "# Create CNN\n",
        "class CNN(nn.Module):\n",
        "  def __init__(self):\n",
        "    super().__init__()\n",
        "    # Creating layers\n",
        "    self.conv1 = nn.Conv2d(in_channels = 3, out_channels = 128, kernel_size = 3)\n",
        "    self.batch1 = nn.BatchNorm2d(128)\n",
        "    self.relu1 = nn.ReLU()\n",
        "    #self.pool1 = nn.MaxPool2d(2,2)\n",
        "\n",
        "    self.conv2 = nn.Conv2d(in_channels = 128, out_channels = 10, kernel_size = 3)\n",
        "    self.batch2 = nn.BatchNorm2d(10)\n",
        "    self.relu2 = nn.ReLU()\n",
        "    self.pool2 = nn.AdaptiveAvgPool2d(1)\n",
        "\n",
        "    #self.conv3 = nn.Conv2d(in_channels = 512, out_channels = 1024, kernel_size = 3)\n",
        "    #self.pool3 = nn.MaxPool2d(2,2)\n",
        "\n",
        "    #self.conv4 = nn.Conv2d(in_channels = 1024, out_channels = 2048, kernel_size = 3)\n",
        "    #self.pool4 = nn.MaxPool2d(2,2)\n",
        "\n",
        "    #self.conv5 = nn.Conv2d(in_channels = 2048, out_channels = 4096, kernel_size = 3)\n",
        "    #self.pool5 = nn.MaxPool2d(2,2)\n",
        "\n",
        "    #self.conv6 = nn.Conv2d(in_channels = 4096, out_channels = 8192, kernel_size = 3)\n",
        "    #self.pool6 = nn.MaxPool2d(2,2)\n",
        "\n",
        "    # flatten (make it a vector) so can make normal linear layers like a fully connected NN\n",
        "    #self.flatten = nn.Flatten()\n",
        "\n",
        "    #self.fc1 = nn.Linear(in_features = 1968128, out_features = 2048)\n",
        "    #self.drop1 = nn.Dropout(p = 0.3)\n",
        "\n",
        "    #self.fc2 = nn.Linear(in_features = 2048, out_features = 1024)\n",
        "    #self.drop2 = nn.Dropout(p = 0.3)\n",
        "\n",
        "    # Output Layer ending in 2 values (rough probability distribution over the 2 classes)\n",
        "    #self.out = nn.Linear(in_features = 512, out_features = 2)\n",
        "\n",
        "\n",
        "  def forward(self, x):\n",
        "    x = nn.functional.relu(self.conv1(x)) # apply non-linearity\n",
        "    x = self.batch1(x)\n",
        "    x = self.relu1(x)\n",
        "    #x = self.pool1(x)\n",
        "\n",
        "    x = nn.functional.relu(self.conv2(x)) # apply non-linearity\n",
        "    x = self.batch2(x)\n",
        "    x = self.relu2(x)\n",
        "    x = self.pool2(x)\n",
        "\n",
        "    #x = nn.functional.relu(self.conv3(x)) # apply non-linearity\n",
        "    #x = self.pool3(x)\n",
        "\n",
        "    #x = nn.functional.relu(self.conv4(x)) # apply non-linearity\n",
        "    #x = self.pool4(x)\n",
        "\n",
        "    #x = nn.functional.relu(self.conv5(x)) # apply non-linearity\n",
        "    #x = self.pool5(x)\n",
        "\n",
        "    #x = nn.functional.relu(self.conv6(x)) # apply non-linearity\n",
        "    #x = self.pool6(x)\n",
        "\n",
        "    #x = self.flatten(x)\n",
        "\n",
        "    #x = nn.functional.relu(self.fc1(x))\n",
        "    #x = self.drop1(x) # dropout to prevent overfitting\n",
        "\n",
        "    #x = nn.functional.relu(self.fc2(x))\n",
        "    #x = self.drop2(x) # dropout to prevent overfitting\n",
        "\n",
        "    #x = self.out(x)\n",
        "\n",
        "    return x"
      ],
      "metadata": {
        "id": "AEu4aFOLVz20"
      },
      "execution_count": 12,
      "outputs": []
    },
    {
      "cell_type": "code",
      "source": [
        "# Instantiate Network\n",
        "net = CNN()\n",
        "net.to(device)"
      ],
      "metadata": {
        "colab": {
          "base_uri": "https://localhost:8080/"
        },
        "id": "kVaHXKukXcuI",
        "outputId": "2ff4544c-9d22-4492-91e5-fa15130b53bf"
      },
      "execution_count": 13,
      "outputs": [
        {
          "output_type": "execute_result",
          "data": {
            "text/plain": [
              "CNN(\n",
              "  (conv1): Conv2d(3, 128, kernel_size=(3, 3), stride=(1, 1))\n",
              "  (batch1): BatchNorm2d(128, eps=1e-05, momentum=0.1, affine=True, track_running_stats=True)\n",
              "  (relu1): ReLU()\n",
              "  (conv2): Conv2d(128, 10, kernel_size=(3, 3), stride=(1, 1))\n",
              "  (batch2): BatchNorm2d(10, eps=1e-05, momentum=0.1, affine=True, track_running_stats=True)\n",
              "  (relu2): ReLU()\n",
              "  (pool2): AdaptiveAvgPool2d(output_size=1)\n",
              ")"
            ]
          },
          "metadata": {},
          "execution_count": 13
        }
      ]
    },
    {
      "cell_type": "code",
      "source": [
        "# Checking the shape of an image before and after the network\n",
        "for i, data in enumerate(train_loader):\n",
        "  inputs, labels = data[0].to(device), data[1].to(device)\n",
        "  print('Input shape:', inputs.shape)\n",
        "  print('Output shape:', net(inputs).shape)\n",
        "  break"
      ],
      "metadata": {
        "colab": {
          "base_uri": "https://localhost:8080/"
        },
        "id": "ob2_b5rVXqmc",
        "outputId": "2817b6df-0c7f-43e9-c31b-24a6537f94ab"
      },
      "execution_count": 14,
      "outputs": [
        {
          "output_type": "stream",
          "name": "stdout",
          "text": [
            "Input shape: torch.Size([10, 3, 128, 128])\n",
            "Output shape: torch.Size([10, 10, 1, 1])\n"
          ]
        }
      ]
    },
    {
      "cell_type": "code",
      "source": [
        "# Specifying hyperparameters\n",
        "import torch.optim as optim\n",
        "\n",
        "class CustomCrossEntropyLoss(torch.nn.Module):\n",
        "    def __init__(self):\n",
        "        super(CustomCrossEntropyLoss, self).__init__()\n",
        "\n",
        "    def forward(self, input, target):\n",
        "        log_softmax_values = torch.log_softmax(input, dim=1)\n",
        "\n",
        "        # Calculate class weights\n",
        "        class_weights = torch.tensor([1.0 / count for count in torch.bincount(target)], device=input.device)\n",
        "\n",
        "        # Weight the losses by class weights\n",
        "        weighted_losses = -target * log_softmax_values * class_weights[target]\n",
        "\n",
        "        return torch.mean(torch.sum(weighted_losses, dim=1))\n",
        "\n",
        "\n",
        "loss_func = nn.CrossEntropyLoss()\n",
        "#loss_func = CustomCrossEntropyLoss\n",
        "\n",
        "optimiser = optim.SGD(net.parameters(), lr = 0.001)"
      ],
      "metadata": {
        "id": "268PLPev1aa9"
      },
      "execution_count": 26,
      "outputs": []
    },
    {
      "cell_type": "code",
      "source": [
        "# Function for training one epoch\n",
        "def train_epoch():\n",
        "  net.train(True) # set to training mode\n",
        "\n",
        "  # Metrics that will build up\n",
        "  running_loss = 0\n",
        "  running_accuracy = 0\n",
        "\n",
        "  # Iterate over train data\n",
        "  for batch_index, data in enumerate(train_loader):\n",
        "    inputs, labels = data[0].to(device), data[1].to(device) # get the images and labels\n",
        "\n",
        "    optimiser.zero_grad() # set all non-zero values for gradients to 0 (reset gradients)\n",
        "\n",
        "    outputs = net(inputs).squeeze((-1, -2)) # shape: [batch size, 2]\n",
        "    correct_prediction = torch.sum(labels == torch.argmax(outputs, dim = 1)).item() # check how many images the model predicted correctly\n",
        "    running_accuracy += correct_prediction/batch_size # update the accuracy\n",
        "\n",
        "    # Train model\n",
        "    loss = loss_func(outputs, labels) # compare model predictions with labels\n",
        "    running_loss += loss.item() # update the loss\n",
        "    loss.backward() # calculate gradients\n",
        "    optimiser.step()\n",
        "\n",
        "    if batch_index % 50 == 49:      # print for every 500 batchs\n",
        "      avg_loss = running_loss/50  # get the average loss across batches\n",
        "      avg_acc = (running_accuracy/50) * 100 # get the average accuracy across batches\n",
        "      print('Batch {0}, Loss: {1:.3f}, Accuracy: {2:.1f}%'.format(batch_index+1, avg_loss, avg_acc))\n",
        "\n",
        "      running_loss = 0\n",
        "      running_accuracy = 0\n",
        "\n",
        "  print()\n"
      ],
      "metadata": {
        "id": "8QCOUWfK3Gfn"
      },
      "execution_count": 16,
      "outputs": []
    },
    {
      "cell_type": "code",
      "source": [
        "# Function for validating one epoch\n",
        "def validate_epoch():\n",
        "  net.train(False) # set to evaluation mode\n",
        "  running_loss = 0\n",
        "  running_acc = 0\n",
        "\n",
        "  # Iterate over validation data\n",
        "  for batch_index, data in enumerate(val_loader):\n",
        "    inputs, labels = data[0].to(device), data[1].to(device)\n",
        "\n",
        "    with torch.no_grad(): # not worried about gradients here as not training\n",
        "      outputs = net(inputs).squeeze((-1, -2)) # shape [batch size, 2]\n",
        "      correct_prediction = torch.sum(labels == torch.argmax(outputs, dim = 1)).item() # check how many images the model predicted correctly\n",
        "      running_acc += correct_prediction/(batch_size*5) # update the accuracy\n",
        "      loss = loss_func(outputs, labels) # compare model predictions with labels\n",
        "      running_loss += loss.item() # update the loss\n",
        "\n",
        "  avg_loss = running_loss/len(val_loader)\n",
        "  avg_acc = (running_acc/len(val_loader)) * 100\n",
        "\n",
        "  print('Val Loss: {0:.3f}, Val Accuracy: {1:.1f}%'.format(avg_loss, avg_acc))\n",
        "\n",
        "  print('-----------------------------------------------------------')\n",
        "  print()\n",
        "\n"
      ],
      "metadata": {
        "id": "UfA74rpP9chf"
      },
      "execution_count": 17,
      "outputs": []
    },
    {
      "cell_type": "code",
      "source": [
        "# Function for testing\n",
        "def test_epoch(epoch):\n",
        "  with torch.no_grad():\n",
        "    correct_prediction = 0\n",
        "    total = 0\n",
        "    for images, labels in test_loader:\n",
        "      images = images.to(device)\n",
        "      labels = labels.to(device)\n",
        "\n",
        "      outputs = net(images).squeeze((-1,-2))\n",
        "\n",
        "      predicted = torch.argmax(outputs, -1)\n",
        "      correct_prediction += (predicted == labels).sum().item()\n",
        "      total += labels.size(0)\n",
        "\n",
        "    acc =(correct_prediction/total) * 100\n",
        "\n",
        "    print('Test accuracy after {0:.0f} epoch(s): {1:.1f}%'.format(epoch+1, acc))\n",
        "    print()"
      ],
      "metadata": {
        "id": "z6WDCL2G4h6p"
      },
      "execution_count": 18,
      "outputs": []
    },
    {
      "cell_type": "code",
      "source": [
        "# Training loop\n",
        "\n",
        "num_epochs = 3\n",
        "\n",
        "for i in range(num_epochs):\n",
        "  print('Epoch:', i+1, '\\n')\n",
        "\n",
        "  train_epoch()\n",
        "  test_epoch(i)\n",
        "  validate_epoch()\n",
        "\n",
        "print('Finished Training')"
      ],
      "metadata": {
        "colab": {
          "base_uri": "https://localhost:8080/"
        },
        "id": "PHmKnUDC2EER",
        "outputId": "86b6afbf-e05b-4b10-cf76-febd0064e7fe"
      },
      "execution_count": 27,
      "outputs": [
        {
          "output_type": "stream",
          "name": "stdout",
          "text": [
            "Epoch: 1 \n",
            "\n",
            "Batch 50, Loss: 0.303, Accuracy: 97.0%\n",
            "Batch 100, Loss: 0.255, Accuracy: 96.8%\n",
            "Batch 150, Loss: 0.292, Accuracy: 95.6%\n",
            "Batch 200, Loss: 0.280, Accuracy: 97.0%\n",
            "Batch 250, Loss: 0.286, Accuracy: 95.8%\n",
            "Batch 300, Loss: 0.246, Accuracy: 97.2%\n",
            "Batch 350, Loss: 0.327, Accuracy: 95.2%\n",
            "Batch 400, Loss: 0.295, Accuracy: 94.8%\n",
            "Batch 450, Loss: 0.285, Accuracy: 96.2%\n",
            "Batch 500, Loss: 0.267, Accuracy: 97.6%\n",
            "Batch 550, Loss: 0.299, Accuracy: 95.4%\n",
            "Batch 600, Loss: 0.290, Accuracy: 95.2%\n",
            "Batch 650, Loss: 0.263, Accuracy: 96.4%\n",
            "\n",
            "Test accuracy after 1 epoch(s): 98.0%\n",
            "\n",
            "Val Loss: 0.219, Val Accuracy: 94.6%\n",
            "-----------------------------------------------------------\n",
            "\n",
            "Epoch: 2 \n",
            "\n",
            "Batch 50, Loss: 0.227, Accuracy: 97.6%\n",
            "Batch 100, Loss: 0.296, Accuracy: 95.4%\n",
            "Batch 150, Loss: 0.272, Accuracy: 95.8%\n",
            "Batch 200, Loss: 0.267, Accuracy: 96.4%\n",
            "Batch 250, Loss: 0.266, Accuracy: 97.4%\n",
            "Batch 300, Loss: 0.282, Accuracy: 96.6%\n",
            "Batch 350, Loss: 0.237, Accuracy: 97.8%\n",
            "Batch 400, Loss: 0.299, Accuracy: 95.4%\n",
            "Batch 450, Loss: 0.236, Accuracy: 97.4%\n",
            "Batch 500, Loss: 0.269, Accuracy: 96.8%\n",
            "Batch 550, Loss: 0.299, Accuracy: 96.0%\n",
            "Batch 600, Loss: 0.252, Accuracy: 97.6%\n",
            "Batch 650, Loss: 0.241, Accuracy: 98.0%\n",
            "\n",
            "Test accuracy after 2 epoch(s): 98.0%\n",
            "\n",
            "Val Loss: 0.206, Val Accuracy: 94.7%\n",
            "-----------------------------------------------------------\n",
            "\n",
            "Epoch: 3 \n",
            "\n",
            "Batch 50, Loss: 0.269, Accuracy: 95.8%\n",
            "Batch 100, Loss: 0.246, Accuracy: 97.4%\n",
            "Batch 150, Loss: 0.267, Accuracy: 95.8%\n",
            "Batch 200, Loss: 0.242, Accuracy: 96.8%\n",
            "Batch 250, Loss: 0.279, Accuracy: 96.0%\n",
            "Batch 300, Loss: 0.273, Accuracy: 95.4%\n",
            "Batch 350, Loss: 0.265, Accuracy: 96.0%\n",
            "Batch 400, Loss: 0.238, Accuracy: 97.2%\n",
            "Batch 450, Loss: 0.232, Accuracy: 97.6%\n",
            "Batch 500, Loss: 0.248, Accuracy: 97.0%\n",
            "Batch 550, Loss: 0.355, Accuracy: 92.0%\n",
            "Batch 600, Loss: 0.253, Accuracy: 97.0%\n",
            "Batch 650, Loss: 0.285, Accuracy: 94.2%\n",
            "\n",
            "Test accuracy after 3 epoch(s): 98.0%\n",
            "\n",
            "Val Loss: 0.193, Val Accuracy: 94.9%\n",
            "-----------------------------------------------------------\n",
            "\n",
            "Finished Training\n"
          ]
        }
      ]
    },
    {
      "cell_type": "code",
      "source": [
        "# Create the confusion matrix\n",
        "from sklearn.metrics import confusion_matrix\n",
        "import seaborn as sns\n",
        "import pandas as pd\n",
        "import matplotlib.pyplot as plt\n",
        "import numpy as np\n",
        "\n",
        "net.eval()\n",
        "y_true = []\n",
        "y_pred = []\n",
        "\n",
        "with torch.no_grad():\n",
        "  for images, labels in test_loader:\n",
        "    images = images.to(device)\n",
        "    labels = labels.to(device)\n",
        "    outputs = net(images)\n",
        "    _, predicted = torch.max(outputs, 1)\n",
        "    y_true += labels.tolist()\n",
        "    y_pred += predicted.tolist()\n",
        "\n",
        "y_pred_flattened = [item for sublist in y_pred for subsublist in sublist for item in subsublist]\n",
        "#%%\n",
        "cm = confusion_matrix(y_true, y_pred_flattened)\n",
        "type1err = cm[1,0]/np.sum(cm)\n",
        "type2err =cm[0,1]/np.sum(cm)\n",
        "cm_df = pd.DataFrame(cm, index=classes, columns=classes)\n",
        "\n",
        "plt.figure(figsize=(10, 8))\n",
        "sns.heatmap(cm_df, annot=True, cmap='Blues')\n",
        "plt.xlabel('Predicted')\n",
        "plt.ylabel('Actual')\n",
        "plt.title('Confusion Matrix')\n",
        "plt.show()"
      ],
      "metadata": {
        "colab": {
          "base_uri": "https://localhost:8080/",
          "height": 716
        },
        "id": "No0-MS-yP-jN",
        "outputId": "17dd5c7b-e65f-45d4-a768-d033b15e6461"
      },
      "execution_count": 28,
      "outputs": [
        {
          "output_type": "display_data",
          "data": {
            "text/plain": [
              "<Figure size 1000x800 with 2 Axes>"
            ],
            "image/png": "[encoded data removed]"
          },
          "metadata": {}
        }
      ]
    },
    {
      "cell_type": "code",
      "source": [
        "#print(y_true)\n",
        "#print(y_pred_flattened)\n",
        "print(f\"Type 1 error = {type1err}\")\n",
        "print(f\"Type 2 error = {type2err}\")"
      ],
      "metadata": {
        "colab": {
          "base_uri": "https://localhost:8080/"
        },
        "id": "uSlDxtZ7nkCc",
        "outputId": "ab3875fd-151b-4009-9a74-870db4026bb5"
      },
      "execution_count": 30,
      "outputs": [
        {
          "output_type": "stream",
          "name": "stdout",
          "text": [
            "Type 1 error = 0.02098849018280298\n",
            "Type 2 error = 0.0\n"
          ]
        }
      ]
    }
  ]
}