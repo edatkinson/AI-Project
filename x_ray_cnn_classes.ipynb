{
  "nbformat": 4,
  "nbformat_minor": 0,
  "metadata": {
    "colab": {
      "provenance": [],
      "gpuType": "T4",
      "authorship_tag": "ABX9TyNpRy5asN7TLjHWAlNqaZX0",
      "include_colab_link": true
    },
    "kernelspec": {
      "name": "python3",
      "display_name": "Python 3"
    },
    "language_info": {
      "name": "python"
    },
    "accelerator": "GPU"
  },
  "cells": [
    {
      "cell_type": "markdown",
      "metadata": {
        "id": "view-in-github",
        "colab_type": "text"
      },
      "source": [
        "<a href=\"https://colab.research.google.com/github/edatkinson/Prohibited-Item-Detection/blob/main/x_ray_cnn_classes.ipynb\" target=\"_parent\"><img src=\"https://colab.research.google.com/assets/colab-badge.svg\" alt=\"Open In Colab\"/></a>"
      ]
    },
    {
      "cell_type": "code",
      "execution_count": 1,
      "metadata": {
        "colab": {
          "base_uri": "https://localhost:8080/"
        },
        "id": "k3Vyr_Q89L9N",
        "outputId": "3ed9c9b8-5a32-4a03-dcf6-5be6885b1068"
      },
      "outputs": [
        {
          "output_type": "execute_result",
          "data": {
            "text/plain": [
              "device(type='cpu')"
            ]
          },
          "metadata": {},
          "execution_count": 1
        }
      ],
      "source": [
        "import torch\n",
        "import torchvision\n",
        "import torchvision.transforms as transforms\n",
        "\n",
        "# Check whether we have a GPU.  Use it if we do.\n",
        "device = torch.device('cuda' if torch.cuda.is_available() else 'cpu')\n",
        "device"
      ]
    },
    {
      "cell_type": "code",
      "source": [
        "from google.colab import drive\n",
        "import pandas as pd\n",
        "from PIL import Image\n",
        "import os\n",
        "from torch.utils.data import Dataset\n",
        "\n",
        "# Mount Google Drive\n",
        "drive.mount('/content/drive')\n",
        "\n",
        "# Navigate to the folder\n",
        "data_dir = '/content/drive/MyDrive/x_ray_dataset'\n",
        "\n",
        "# Define transforms\n",
        "transform = transforms.Compose([\n",
        "    transforms.Resize((128,128)),\n",
        "    transforms.ToTensor()\n",
        "])\n",
        "\n",
        "# Create dataset class\n",
        "class X_ray_dataset(Dataset):\n",
        "    def __init__(self, annotations_file = os.path.join(data_dir, 'Classes.csv'), img_dir = os.path.join(data_dir, 'x_ray_images'), transform = None):\n",
        "        self.img_labels = pd.read_csv(annotations_file)\n",
        "        self.img_dir = img_dir\n",
        "        self.transform = transform\n",
        "\n",
        "    def __len__(self):\n",
        "        return len(self.img_labels)\n",
        "\n",
        "    def __getitem__(self, idx):\n",
        "        img_path = os.path.join(self.img_dir, self.img_labels.iloc[idx, 0])\n",
        "        image = Image.open(img_path)\n",
        "        label = self.img_labels.iloc[idx, 1]\n",
        "        if self.transform:\n",
        "            image = self.transform(image)\n",
        "        return image, label"
      ],
      "metadata": {
        "colab": {
          "base_uri": "https://localhost:8080/"
        },
        "id": "VxekmCQy_b5-",
        "outputId": "477ef9a2-2c6f-47e3-efab-83d1bfe9172c"
      },
      "execution_count": 2,
      "outputs": [
        {
          "output_type": "stream",
          "name": "stdout",
          "text": [
            "Mounted at /content/drive\n"
          ]
        }
      ]
    },
    {
      "cell_type": "code",
      "source": [
        "# Test to see if the class is working\n",
        "x_ray = X_ray_dataset(transform=transform)\n",
        "print('len dataset:', len(x_ray)) # use the __len__ method to show the length of the dataset\n",
        "example = x_ray[0] # use the __getitem__ method to get the first example\n",
        "print(example[0].shape)\n",
        "print('Class:', example[1])"
      ],
      "metadata": {
        "colab": {
          "base_uri": "https://localhost:8080/"
        },
        "id": "FUrmyn3Y_yFO",
        "outputId": "9dad08a9-4c55-4601-cf33-16c334ca0a83"
      },
      "execution_count": 3,
      "outputs": [
        {
          "output_type": "stream",
          "name": "stdout",
          "text": [
            "len dataset: 9841\n",
            "torch.Size([3, 128, 128])\n",
            "Class: 10\n"
          ]
        }
      ]
    },
    {
      "cell_type": "code",
      "source": [
        "from torch.utils.data import random_split, DataLoader\n",
        "\n",
        "x_ray = X_ray_dataset(transform=transform)\n",
        "# Define the size of the training set\n",
        "train_size = int(0.85 * len(x_ray))  # 85% for training\n",
        "\n",
        "# Split the dataset into training and testing sets\n",
        "train_ds, test_ds = random_split(x_ray, [train_size, len(x_ray) - train_size])\n",
        "\n",
        "# Split the training set into train and validation (train ~ 70% (6887), test ~ 15% (1477), val ~ 15% (1477))\n",
        "train_ds, val_ds = random_split(train_ds, [6887, 1477])\n",
        "\n",
        "# Define class labels\n",
        "classes = ('Safe', 'Baton', 'Bullet', 'Gun', 'Hammer', 'Handcuffs', 'Knife',\n",
        "            'Lighter', 'Pliers', 'Powerbank', 'Scissors', 'Sprayer', 'Wrench')\n",
        "\n",
        "batch_size = 10\n",
        "\n",
        "# Define Dataloaders\n",
        "train_loader = DataLoader(train_ds,\n",
        "                          batch_size = batch_size,\n",
        "                          shuffle = True)\n",
        "test_loader = DataLoader(test_ds,\n",
        "                         batch_size = batch_size*5,\n",
        "                         shuffle = False)\n",
        "val_loader = DataLoader(val_ds,\n",
        "                        batch_size = batch_size*5,\n",
        "                        shuffle = False)"
      ],
      "metadata": {
        "id": "QEAoHssSBT_N"
      },
      "execution_count": 4,
      "outputs": []
    },
    {
      "cell_type": "code",
      "source": [
        "import torch.nn as nn\n",
        "\n",
        "# Create CNN\n",
        "class CNN(nn.Module):\n",
        "  def __init__(self):\n",
        "    super().__init__()\n",
        "    # Creating layers\n",
        "    self.conv1 = nn.Conv2d(in_channels = 3, out_channels = 256, kernel_size = 3)\n",
        "    self.batch1 = nn.BatchNorm2d(256)\n",
        "    self.relu1 = nn.ReLU()\n",
        "\n",
        "    self.conv2 = nn.Conv2d(in_channels = 256, out_channels = 128, kernel_size = 3)\n",
        "    self.batch2 = nn.BatchNorm2d(128)\n",
        "    self.relu2 = nn.ReLU()\n",
        "    self.pool2 = nn.AdaptiveAvgPool2d(1)\n",
        "\n",
        "  def forward(self, x):\n",
        "    x = nn.functional.relu(self.conv1(x)) # apply non-linearity\n",
        "    x = self.batch1(x)\n",
        "    x = self.relu1(x)\n",
        "\n",
        "    x = nn.functional.relu(self.conv2(x)) # apply non-linearity\n",
        "    x = self.batch2(x)\n",
        "    x = self.relu2(x)\n",
        "    x = self.pool2(x)\n",
        "\n",
        "    return x"
      ],
      "metadata": {
        "id": "YZNarNhlByrb"
      },
      "execution_count": 40,
      "outputs": []
    },
    {
      "cell_type": "code",
      "source": [
        "# Instantiate Network\n",
        "net = CNN()\n",
        "net.to(device)"
      ],
      "metadata": {
        "colab": {
          "base_uri": "https://localhost:8080/"
        },
        "id": "p_TTx2YbCJiW",
        "outputId": "333fa8b4-94cb-4610-c45b-db6f83575d51"
      },
      "execution_count": 41,
      "outputs": [
        {
          "output_type": "execute_result",
          "data": {
            "text/plain": [
              "CNN(\n",
              "  (conv1): Conv2d(3, 256, kernel_size=(3, 3), stride=(1, 1))\n",
              "  (batch1): BatchNorm2d(256, eps=1e-05, momentum=0.1, affine=True, track_running_stats=True)\n",
              "  (relu1): ReLU()\n",
              "  (conv2): Conv2d(256, 128, kernel_size=(3, 3), stride=(1, 1))\n",
              "  (batch2): BatchNorm2d(128, eps=1e-05, momentum=0.1, affine=True, track_running_stats=True)\n",
              "  (relu2): ReLU()\n",
              "  (pool2): AdaptiveAvgPool2d(output_size=1)\n",
              ")"
            ]
          },
          "metadata": {},
          "execution_count": 41
        }
      ]
    },
    {
      "cell_type": "code",
      "source": [
        "# Checking the shape of an image before and after the network\n",
        "for i, data in enumerate(train_loader):\n",
        "  inputs, labels = data[0].to(device), data[1].to(device)\n",
        "  print('Input shape:', inputs.shape)\n",
        "  print('Output shape:', net(inputs).shape)\n",
        "  break"
      ],
      "metadata": {
        "colab": {
          "base_uri": "https://localhost:8080/"
        },
        "id": "sqDOkH0ACMI-",
        "outputId": "fc5b2c62-afce-4a92-d537-85f4afab9926"
      },
      "execution_count": 42,
      "outputs": [
        {
          "output_type": "stream",
          "name": "stdout",
          "text": [
            "Input shape: torch.Size([10, 3, 128, 128])\n",
            "Output shape: torch.Size([10, 128, 1, 1])\n"
          ]
        }
      ]
    },
    {
      "cell_type": "code",
      "source": [
        "# Specifying hyperparameters\n",
        "import torch.optim as optim\n",
        "\n",
        "loss_func = nn.CrossEntropyLoss()\n",
        "optimiser = optim.SGD(net.parameters(), lr = 0.1)"
      ],
      "metadata": {
        "id": "JyI04dYoCSRC"
      },
      "execution_count": 43,
      "outputs": []
    },
    {
      "cell_type": "code",
      "source": [
        "# Function for training one epoch\n",
        "def train_epoch():\n",
        "  net.train(True) # set to training mode\n",
        "\n",
        "  # Metrics that will build up\n",
        "  running_loss = 0\n",
        "  running_accuracy = 0\n",
        "\n",
        "  # Iterate over train data\n",
        "  for batch_index, data in enumerate(train_loader):\n",
        "    inputs, labels = data[0].to(device), data[1].to(device) # get the images and labels\n",
        "\n",
        "    optimiser.zero_grad() # set all non-zero values for gradients to 0 (reset gradients)\n",
        "\n",
        "    outputs = net(inputs).squeeze((-1, -2)) # shape: [batch size, 2]\n",
        "    correct_prediction = torch.sum(labels == torch.argmax(outputs, dim = 1)).item() # check how many images the model predicted correctly\n",
        "    running_accuracy += correct_prediction/batch_size # update the accuracy\n",
        "\n",
        "    # Train model\n",
        "    loss = loss_func(outputs, labels) # compare model predictions with labels\n",
        "    running_loss += loss.item() # update the loss\n",
        "    loss.backward() # calculate gradients\n",
        "    optimiser.step()\n",
        "\n",
        "    if batch_index % 50 == 49:      # print for every 500 batchs\n",
        "      avg_loss = running_loss/50  # get the average loss across batches\n",
        "      avg_acc = (running_accuracy/50) * 100 # get the average accuracy across batches\n",
        "      print('Batch {0}, Loss: {1:.3f}, Accuracy: {2:.1f}%'.format(batch_index+1, avg_loss, avg_acc))\n",
        "\n",
        "      running_loss = 0\n",
        "      running_accuracy = 0\n",
        "\n",
        "  print()"
      ],
      "metadata": {
        "id": "rS7mYO-1CUk6"
      },
      "execution_count": 44,
      "outputs": []
    },
    {
      "cell_type": "code",
      "source": [
        "# Function for testing\n",
        "def test_epoch(epoch):\n",
        "  with torch.no_grad():\n",
        "    correct_prediction = 0\n",
        "    total = 0\n",
        "    for images, labels in test_loader:\n",
        "      images = images.to(device)\n",
        "      labels = labels.to(device)\n",
        "\n",
        "      outputs = net(images).squeeze((-1,-2))\n",
        "\n",
        "      predicted = torch.argmax(outputs, -1)\n",
        "      correct_prediction += (predicted == labels).sum().item()\n",
        "      total += labels.size(0)\n",
        "\n",
        "    acc =(correct_prediction/total) * 100\n",
        "\n",
        "    print('Test accuracy after {0:.0f} epoch(s): {1:.1f}%'.format(epoch+1, acc))\n",
        "    print()"
      ],
      "metadata": {
        "id": "d_1EQjByCcro"
      },
      "execution_count": 45,
      "outputs": []
    },
    {
      "cell_type": "code",
      "source": [
        "# Function for validating one epoch\n",
        "def validate_epoch():\n",
        "  net.train(False) # set to evaluation mode\n",
        "  running_loss = 0\n",
        "  running_acc = 0\n",
        "\n",
        "  # Iterate over validation data\n",
        "  for batch_index, data in enumerate(val_loader):\n",
        "    inputs, labels = data[0].to(device), data[1].to(device)\n",
        "\n",
        "    with torch.no_grad(): # not worried about gradients here as not training\n",
        "      outputs = net(inputs).squeeze((-1, -2)) # shape [batch size, 2]\n",
        "      correct_prediction = torch.sum(labels == torch.argmax(outputs, dim = 1)).item() # check how many images the model predicted correctly\n",
        "      running_acc += correct_prediction/batch_size # update the accuracy\n",
        "      loss = loss_func(outputs, labels) # compare model predictions with labels\n",
        "      running_loss += loss.item() # update the loss\n",
        "\n",
        "  avg_loss = running_loss/len(val_loader)\n",
        "  avg_acc = (running_acc/len(val_loader)) * 100\n",
        "\n",
        "  print('Val Loss: {0:.3f}, Val Accuracy: {1:.1f}%'.format(avg_loss, avg_acc))\n",
        "\n",
        "  print('-----------------------------------------------------------')\n",
        "  print()"
      ],
      "metadata": {
        "id": "gMFWDi3FCZoo"
      },
      "execution_count": 46,
      "outputs": []
    },
    {
      "cell_type": "code",
      "source": [
        "# Training loop\n",
        "\n",
        "num_epochs = 5\n",
        "\n",
        "for i in range(num_epochs):\n",
        "  print('Epoch:', i+1, '\\n')\n",
        "\n",
        "  train_epoch()\n",
        "  test_epoch(i)\n",
        "  validate_epoch()\n",
        "\n",
        "print('Finished Training')"
      ],
      "metadata": {
        "colab": {
          "base_uri": "https://localhost:8080/"
        },
        "id": "PwZEQcjLCYEY",
        "outputId": "864b32ae-eec7-4d8e-ab0d-406f6ba52ffc"
      },
      "execution_count": null,
      "outputs": [
        {
          "output_type": "stream",
          "name": "stdout",
          "text": [
            "Epoch: 1 \n",
            "\n"
          ]
        }
      ]
    }
  ]
}