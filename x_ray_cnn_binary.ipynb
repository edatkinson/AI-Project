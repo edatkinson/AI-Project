{
  "nbformat": 4,
  "nbformat_minor": 0,
  "metadata": {
    "colab": {
      "provenance": [],
      "gpuType": "T4",
      "authorship_tag": "ABX9TyPeh4mIc4ml1v4XYtH+lRJG",
      "include_colab_link": true
    },
    "kernelspec": {
      "name": "python3",
      "display_name": "Python 3"
    },
    "language_info": {
      "name": "python"
    },
    "accelerator": "GPU"
  },
  "cells": [
    {
      "cell_type": "markdown",
      "metadata": {
        "id": "view-in-github",
        "colab_type": "text"
      },
      "source": [
        "<a href=\"https://colab.research.google.com/github/edatkinson/Prohibited-Item-Detection/blob/main/x_ray_cnn_binary.ipynb\" target=\"_parent\"><img src=\"https://colab.research.google.com/assets/colab-badge.svg\" alt=\"Open In Colab\"/></a>"
      ]
    },
    {
      "cell_type": "code",
      "source": [
        "import torch\n",
        "import torchvision\n",
        "import torchvision.transforms as transforms\n",
        "\n",
        "# Check whether we have a GPU.  Use it if we do.\n",
        "device = torch.device('cuda' if torch.cuda.is_available() else 'cpu')\n",
        "device\n"
      ],
      "metadata": {
        "id": "yt53HwT1i6su",
        "colab": {
          "base_uri": "https://localhost:8080/"
        },
        "outputId": "6effe645-0838-4d7a-ca88-1c68e6b0de1e"
      },
      "execution_count": 1,
      "outputs": [
        {
          "output_type": "execute_result",
          "data": {
            "text/plain": [
              "device(type='cpu')"
            ]
          },
          "metadata": {},
          "execution_count": 1
        }
      ]
    },
    {
      "cell_type": "code",
      "source": [
        "from google.colab import drive\n",
        "import pandas as pd\n",
        "from PIL import Image\n",
        "import os\n",
        "from torch.utils.data import Dataset\n",
        "\n",
        "# Mount Google Drive\n",
        "drive.mount('/content/drive')\n",
        "\n",
        "# Navigate to the folder\n",
        "data_dir = '/content/drive/MyDrive/x_ray_dataset'\n",
        "\n",
        "# Define transforms\n",
        "transform = transforms.Compose([\n",
        "    transforms.Resize((128,128)),\n",
        "    transforms.ToTensor()\n",
        "])\n",
        "\n",
        "# Create dataset class\n",
        "class X_ray_dataset(Dataset):\n",
        "    def __init__(self, annotations_file = os.path.join(data_dir, 'binary_classes.csv'), img_dir = os.path.join(data_dir, 'x_ray_images'), transform = None):\n",
        "        self.img_labels = pd.read_csv(annotations_file)\n",
        "        self.img_dir = img_dir\n",
        "        self.transform = transform\n",
        "\n",
        "    def __len__(self):\n",
        "        return len(self.img_labels)\n",
        "\n",
        "    def __getitem__(self, idx):\n",
        "        img_path = os.path.join(self.img_dir, self.img_labels.iloc[idx, 0])\n",
        "        image = Image.open(img_path)\n",
        "        label = self.img_labels.iloc[idx, 1]\n",
        "        if self.transform:\n",
        "            image = self.transform(image)\n",
        "        return image, label\n",
        "\n",
        "\n"
      ],
      "metadata": {
        "colab": {
          "base_uri": "https://localhost:8080/"
        },
        "id": "ttSLyl-CUk1t",
        "outputId": "3c465dd6-6a66-4ad6-d5ec-b1bc2ac3f84f"
      },
      "execution_count": null,
      "outputs": [
        {
          "output_type": "stream",
          "name": "stdout",
          "text": [
            "Drive already mounted at /content/drive; to attempt to forcibly remount, call drive.mount(\"/content/drive\", force_remount=True).\n"
          ]
        }
      ]
    },
    {
      "cell_type": "code",
      "source": [
        "# Test to see if the class is working\n",
        "x_ray = X_ray_dataset(transform=transform)\n",
        "print('len dataset:', len(x_ray)) # use the __len__ method to show the length of the dataset\n",
        "example = x_ray[0] # use the __getitem__ method to get the first example\n",
        "print(example[0].shape)\n",
        "print('Class:', example[1])"
      ],
      "metadata": {
        "colab": {
          "base_uri": "https://localhost:8080/"
        },
        "id": "9vaN57E357v0",
        "outputId": "221b3c97-c89d-4af9-d5c5-6aee51244334"
      },
      "execution_count": null,
      "outputs": [
        {
          "output_type": "stream",
          "name": "stdout",
          "text": [
            "len dataset: 9841\n",
            "torch.Size([3, 256, 256])\n",
            "Class: 1\n"
          ]
        }
      ]
    },
    {
      "cell_type": "code",
      "source": [
        "from torch.utils.data import random_split, DataLoader\n",
        "\n",
        "x_ray = X_ray_dataset(transform=transform)\n",
        "# Define the size of the training set\n",
        "train_size = int(0.85 * len(x_ray))  # 85% for training\n",
        "\n",
        "# Split the dataset into training and testing sets\n",
        "train_ds, test_ds = random_split(x_ray, [train_size, len(x_ray) - train_size])\n",
        "\n",
        "# Split the training set into train and validation (train ~ 70% (6887), test ~ 15% (1477), val ~ 15% (1477))\n",
        "train_ds, val_ds = random_split(train_ds, [6887, 1477])\n",
        "\n",
        "# Define class labels\n",
        "classes = ('Safe', 'Prohibited')\n",
        "\n",
        "batch_size = 10\n",
        "\n",
        "# Define Dataloaders\n",
        "train_loader = DataLoader(train_ds,\n",
        "                          batch_size = batch_size,\n",
        "                          shuffle = True)\n",
        "test_loader = DataLoader(test_ds,\n",
        "                         batch_size = batch_size*5,\n",
        "                         shuffle = False)\n",
        "val_loader = DataLoader(val_ds,\n",
        "                        batch_size = batch_size*5,\n",
        "                        shuffle = False)"
      ],
      "metadata": {
        "id": "KGNZU47k3nyS"
      },
      "execution_count": null,
      "outputs": []
    },
    {
      "cell_type": "code",
      "source": [
        "import torch.nn as nn\n",
        "\n",
        "# Create CNN\n",
        "class CNN(nn.Module):\n",
        "  def __init__(self):\n",
        "    super().__init__()\n",
        "    # Creating layers\n",
        "    self.conv1 = nn.Conv2d(in_channels = 3, out_channels = 128, kernel_size = 3)\n",
        "    self.batch1 = nn.BatchNorm2d(128)\n",
        "    self.relu1 = nn.ReLU()\n",
        "    #self.pool1 = nn.MaxPool2d(2,2)\n",
        "\n",
        "    self.conv2 = nn.Conv2d(in_channels = 128, out_channels = 10, kernel_size = 3)\n",
        "    self.batch2 = nn.BatchNorm2d(10)\n",
        "    self.relu2 = nn.ReLU()\n",
        "    self.pool2 = nn.AdaptiveAvgPool2d(1)\n",
        "\n",
        "    #self.conv3 = nn.Conv2d(in_channels = 512, out_channels = 1024, kernel_size = 3)\n",
        "    #self.pool3 = nn.MaxPool2d(2,2)\n",
        "\n",
        "    #self.conv4 = nn.Conv2d(in_channels = 1024, out_channels = 2048, kernel_size = 3)\n",
        "    #self.pool4 = nn.MaxPool2d(2,2)\n",
        "\n",
        "    #self.conv5 = nn.Conv2d(in_channels = 2048, out_channels = 4096, kernel_size = 3)\n",
        "    #self.pool5 = nn.MaxPool2d(2,2)\n",
        "\n",
        "    #self.conv6 = nn.Conv2d(in_channels = 4096, out_channels = 8192, kernel_size = 3)\n",
        "    #self.pool6 = nn.MaxPool2d(2,2)\n",
        "\n",
        "    # flatten (make it a vector) so can make normal linear layers like a fully connected NN\n",
        "    #self.flatten = nn.Flatten()\n",
        "\n",
        "    #self.fc1 = nn.Linear(in_features = 1968128, out_features = 2048)\n",
        "    #self.drop1 = nn.Dropout(p = 0.3)\n",
        "\n",
        "    #self.fc2 = nn.Linear(in_features = 2048, out_features = 1024)\n",
        "    #self.drop2 = nn.Dropout(p = 0.3)\n",
        "\n",
        "    # Output Layer ending in 2 values (rough probability distribution over the 2 classes)\n",
        "    #self.out = nn.Linear(in_features = 512, out_features = 2)\n",
        "\n",
        "\n",
        "  def forward(self, x):\n",
        "    x = nn.functional.relu(self.conv1(x)) # apply non-linearity\n",
        "    x = self.batch1(x)\n",
        "    x = self.relu1(x)\n",
        "    #x = self.pool1(x)\n",
        "\n",
        "    x = nn.functional.relu(self.conv2(x)) # apply non-linearity\n",
        "    x = self.batch2(x)\n",
        "    x = self.relu2(x)\n",
        "    x = self.pool2(x)\n",
        "\n",
        "    #x = nn.functional.relu(self.conv3(x)) # apply non-linearity\n",
        "    #x = self.pool3(x)\n",
        "\n",
        "    #x = nn.functional.relu(self.conv4(x)) # apply non-linearity\n",
        "    #x = self.pool4(x)\n",
        "\n",
        "    #x = nn.functional.relu(self.conv5(x)) # apply non-linearity\n",
        "    #x = self.pool5(x)\n",
        "\n",
        "    #x = nn.functional.relu(self.conv6(x)) # apply non-linearity\n",
        "    #x = self.pool6(x)\n",
        "\n",
        "    #x = self.flatten(x)\n",
        "\n",
        "    #x = nn.functional.relu(self.fc1(x))\n",
        "    #x = self.drop1(x) # dropout to prevent overfitting\n",
        "\n",
        "    #x = nn.functional.relu(self.fc2(x))\n",
        "    #x = self.drop2(x) # dropout to prevent overfitting\n",
        "\n",
        "    #x = self.out(x)\n",
        "\n",
        "    return x"
      ],
      "metadata": {
        "id": "AEu4aFOLVz20"
      },
      "execution_count": null,
      "outputs": []
    },
    {
      "cell_type": "code",
      "source": [
        "# Instantiate Network\n",
        "net = CNN()\n",
        "net.to(device)"
      ],
      "metadata": {
        "colab": {
          "base_uri": "https://localhost:8080/"
        },
        "id": "kVaHXKukXcuI",
        "outputId": "ac4bb7ed-e7c8-4635-eb35-17ddd9c56cac"
      },
      "execution_count": null,
      "outputs": [
        {
          "output_type": "execute_result",
          "data": {
            "text/plain": [
              "CNN(\n",
              "  (conv1): Conv2d(3, 128, kernel_size=(3, 3), stride=(1, 1))\n",
              "  (batch1): BatchNorm2d(128, eps=1e-05, momentum=0.1, affine=True, track_running_stats=True)\n",
              "  (relu1): ReLU()\n",
              "  (conv2): Conv2d(128, 10, kernel_size=(3, 3), stride=(1, 1))\n",
              "  (batch2): BatchNorm2d(10, eps=1e-05, momentum=0.1, affine=True, track_running_stats=True)\n",
              "  (relu2): ReLU()\n",
              "  (pool2): AdaptiveAvgPool2d(output_size=1)\n",
              "  (out): Linear(in_features=512, out_features=2, bias=True)\n",
              ")"
            ]
          },
          "metadata": {},
          "execution_count": 23
        }
      ]
    },
    {
      "cell_type": "code",
      "source": [
        "# Checking the shape of an image before and after the network\n",
        "for i, data in enumerate(train_loader):\n",
        "  inputs, labels = data[0].to(device), data[1].to(device)\n",
        "  print('Input shape:', inputs.shape)\n",
        "  print('Output shape:', net(inputs).shape)\n",
        "  break"
      ],
      "metadata": {
        "colab": {
          "base_uri": "https://localhost:8080/"
        },
        "id": "ob2_b5rVXqmc",
        "outputId": "23a9de63-d74d-4324-93d1-f52bfeb1452a"
      },
      "execution_count": null,
      "outputs": [
        {
          "output_type": "stream",
          "name": "stdout",
          "text": [
            "Input shape: torch.Size([10, 3, 128, 128])\n",
            "Output shape: torch.Size([10, 10, 1, 1])\n"
          ]
        }
      ]
    },
    {
      "cell_type": "code",
      "source": [
        "# Count the number of learnable parameters\n",
        "num_pars = 0\n",
        "for i in net.parameters():\n",
        "  num_pars += len(torch.flatten(i))\n",
        "\n",
        "print(f'Number of parameters in the model: {num_pars:,}')"
      ],
      "metadata": {
        "colab": {
          "base_uri": "https://localhost:8080/"
        },
        "id": "pwPbB21A0z4N",
        "outputId": "5926a821-30e4-4e07-f9b8-da105f006851"
      },
      "execution_count": null,
      "outputs": [
        {
          "output_type": "stream",
          "name": "stdout",
          "text": [
            "Number of parameters in the model: 31,776\n"
          ]
        }
      ]
    },
    {
      "cell_type": "code",
      "source": [
        "# Specifying hyperparameters\n",
        "import torch.optim as optim\n",
        "\n",
        "loss_func = nn.CrossEntropyLoss()\n",
        "optimiser = optim.SGD(net.parameters(), lr = 0.1)"
      ],
      "metadata": {
        "id": "268PLPev1aa9"
      },
      "execution_count": null,
      "outputs": []
    },
    {
      "cell_type": "code",
      "source": [
        "# Function for training one epoch\n",
        "def train_epoch():\n",
        "  net.train(True) # set to training mode\n",
        "\n",
        "  # Metrics that will build up\n",
        "  running_loss = 0\n",
        "  running_accuracy = 0\n",
        "\n",
        "  # Iterate over train data\n",
        "  for batch_index, data in enumerate(train_loader):\n",
        "    inputs, labels = data[0].to(device), data[1].to(device) # get the images and labels\n",
        "\n",
        "    optimiser.zero_grad() # set all non-zero values for gradients to 0 (reset gradients)\n",
        "\n",
        "    outputs = net(inputs).squeeze((-1, -2)) # shape: [batch size, 2]\n",
        "    correct_prediction = torch.sum(labels == torch.argmax(outputs, dim = 1)).item() # check how many images the model predicted correctly\n",
        "    running_accuracy += correct_prediction/batch_size # update the accuracy\n",
        "\n",
        "    # Train model\n",
        "    loss = loss_func(outputs, labels) # compare model predictions with labels\n",
        "    running_loss += loss.item() # update the loss\n",
        "    loss.backward() # calculate gradients\n",
        "    optimiser.step()\n",
        "\n",
        "    if batch_index % 50 == 49:      # print for every 500 batchs\n",
        "      avg_loss = running_loss/50  # get the average loss across batches\n",
        "      avg_acc = (running_accuracy/50) * 100 # get the average accuracy across batches\n",
        "      print('Batch {0}, Loss: {1:.3f}, Accuracy: {2:.1f}%'.format(batch_index+1, avg_loss, avg_acc))\n",
        "\n",
        "      running_loss = 0\n",
        "      running_accuracy = 0\n",
        "\n",
        "  print()\n"
      ],
      "metadata": {
        "id": "8QCOUWfK3Gfn"
      },
      "execution_count": null,
      "outputs": []
    },
    {
      "cell_type": "code",
      "source": [
        "# Function for validating one epoch\n",
        "def validate_epoch():\n",
        "  net.train(False) # set to evaluation mode\n",
        "  running_loss = 0\n",
        "  running_acc = 0\n",
        "\n",
        "  # Iterate over validation data\n",
        "  for batch_index, data in enumerate(val_loader):\n",
        "    inputs, labels = data[0].to(device), data[1].to(device)\n",
        "\n",
        "    with torch.no_grad(): # not worried about gradients here as not training\n",
        "      outputs = net(inputs).squeeze((-1, -2)) # shape [batch size, 2]\n",
        "      correct_prediction = torch.sum(labels == torch.argmax(outputs, dim = 1)).item() # check how many images the model predicted correctly\n",
        "      running_acc += correct_prediction/batch_size # update the accuracy\n",
        "      loss = loss_func(outputs, labels) # compare model predictions with labels\n",
        "      running_loss += loss.item() # update the loss\n",
        "\n",
        "  avg_loss = running_loss/len(val_loader)\n",
        "  avg_acc = (running_acc/len(val_loader)) * 100\n",
        "\n",
        "  print('Val Loss: {0:.3f}, Val Accuracy: {1:.1f}%'.format(avg_loss, avg_acc))\n",
        "\n",
        "  print('-----------------------------------------------------------')\n",
        "  print()\n",
        "\n"
      ],
      "metadata": {
        "id": "UfA74rpP9chf"
      },
      "execution_count": null,
      "outputs": []
    },
    {
      "cell_type": "code",
      "source": [
        "# Function for testing\n",
        "def test_epoch(epoch):\n",
        "  with torch.no_grad():\n",
        "    correct_prediction = 0\n",
        "    total = 0\n",
        "    for images, labels in test_loader:\n",
        "      images = images.to(device)\n",
        "      labels = labels.to(device)\n",
        "\n",
        "      outputs = net(images).squeeze((-1,-2))\n",
        "\n",
        "      predicted = torch.argmax(outputs, -1)\n",
        "      correct_prediction += (predicted == labels).sum().item()\n",
        "      total += labels.size(0)\n",
        "\n",
        "    acc =(correct_prediction/total) * 100\n",
        "\n",
        "    print('Test accuracy after {0:.0f} epoch(s): {1:.1f}%'.format(epoch+1, acc))\n",
        "    print()"
      ],
      "metadata": {
        "id": "z6WDCL2G4h6p"
      },
      "execution_count": null,
      "outputs": []
    },
    {
      "cell_type": "code",
      "source": [
        "# Training loop\n",
        "\n",
        "num_epochs = 5\n",
        "\n",
        "for i in range(num_epochs):\n",
        "  print('Epoch:', i+1, '\\n')\n",
        "\n",
        "  train_epoch()\n",
        "  test_epoch(i)\n",
        "  validate_epoch()\n",
        "\n",
        "print('Finished Training')"
      ],
      "metadata": {
        "colab": {
          "base_uri": "https://localhost:8080/"
        },
        "id": "PHmKnUDC2EER",
        "outputId": "714f9da0-4a29-46e0-b7c5-fb45da44e876"
      },
      "execution_count": null,
      "outputs": [
        {
          "output_type": "stream",
          "name": "stdout",
          "text": [
            "Epoch: 1 \n",
            "\n",
            "Batch 50, Loss: 0.119, Accuracy: 97.2%\n",
            "Batch 100, Loss: 0.119, Accuracy: 96.8%\n",
            "Batch 150, Loss: 0.052, Accuracy: 99.2%\n",
            "Batch 200, Loss: 0.074, Accuracy: 98.0%\n",
            "Batch 250, Loss: 0.105, Accuracy: 97.0%\n",
            "Batch 300, Loss: 0.118, Accuracy: 97.0%\n",
            "Batch 350, Loss: 0.114, Accuracy: 96.6%\n",
            "Batch 400, Loss: 0.083, Accuracy: 98.4%\n",
            "Batch 450, Loss: 0.142, Accuracy: 95.6%\n",
            "Batch 500, Loss: 0.165, Accuracy: 95.0%\n",
            "Batch 550, Loss: 0.135, Accuracy: 96.0%\n",
            "Batch 600, Loss: 0.130, Accuracy: 96.0%\n",
            "Batch 650, Loss: 0.101, Accuracy: 97.2%\n",
            "\n",
            "Val Loss: 0.292, Val Accuracy: 465.7%\n",
            "-----------------------------------------------------------\n",
            "\n",
            "Test accuracy after 1 epoch(s): 94.38050101557211 %\n",
            "Epoch: 2 \n",
            "\n",
            "Batch 50, Loss: 0.074, Accuracy: 98.8%\n",
            "Batch 100, Loss: 0.136, Accuracy: 96.4%\n",
            "Batch 150, Loss: 0.128, Accuracy: 95.6%\n",
            "Batch 200, Loss: 0.122, Accuracy: 97.0%\n",
            "Batch 250, Loss: 0.130, Accuracy: 96.6%\n",
            "Batch 300, Loss: 0.104, Accuracy: 96.8%\n",
            "Batch 350, Loss: 0.055, Accuracy: 98.8%\n",
            "Batch 400, Loss: 0.130, Accuracy: 95.4%\n",
            "Batch 450, Loss: 0.129, Accuracy: 95.4%\n",
            "Batch 500, Loss: 0.114, Accuracy: 95.8%\n",
            "Batch 550, Loss: 0.096, Accuracy: 97.2%\n",
            "Batch 600, Loss: 0.063, Accuracy: 98.6%\n",
            "Batch 650, Loss: 0.078, Accuracy: 97.8%\n",
            "\n",
            "Val Loss: 0.837, Val Accuracy: 328.3%\n",
            "-----------------------------------------------------------\n",
            "\n",
            "Test accuracy after 2 epoch(s): 66.96005416384563 %\n",
            "Epoch: 3 \n",
            "\n",
            "Batch 50, Loss: 0.076, Accuracy: 98.0%\n",
            "Batch 100, Loss: 0.094, Accuracy: 96.6%\n",
            "Batch 150, Loss: 0.151, Accuracy: 95.2%\n",
            "Batch 200, Loss: 0.109, Accuracy: 97.0%\n",
            "Batch 250, Loss: 0.094, Accuracy: 97.6%\n",
            "Batch 300, Loss: 0.129, Accuracy: 95.4%\n",
            "Batch 350, Loss: 0.097, Accuracy: 96.8%\n",
            "Batch 400, Loss: 0.097, Accuracy: 97.0%\n",
            "Batch 450, Loss: 0.113, Accuracy: 96.4%\n",
            "Batch 500, Loss: 0.086, Accuracy: 97.4%\n",
            "Batch 550, Loss: 0.115, Accuracy: 96.8%\n",
            "Batch 600, Loss: 0.114, Accuracy: 96.8%\n",
            "Batch 650, Loss: 0.101, Accuracy: 97.2%\n",
            "\n",
            "Val Loss: 2.586, Val Accuracy: 246.7%\n",
            "-----------------------------------------------------------\n",
            "\n",
            "Test accuracy after 3 epoch(s): 47.59647935003385 %\n",
            "Epoch: 4 \n",
            "\n",
            "Batch 50, Loss: 0.089, Accuracy: 97.6%\n",
            "Batch 100, Loss: 0.139, Accuracy: 94.4%\n",
            "Batch 150, Loss: 0.104, Accuracy: 96.6%\n",
            "Batch 200, Loss: 0.107, Accuracy: 96.8%\n",
            "Batch 250, Loss: 0.104, Accuracy: 97.6%\n",
            "Batch 300, Loss: 0.113, Accuracy: 96.8%\n",
            "Batch 350, Loss: 0.089, Accuracy: 97.4%\n",
            "Batch 400, Loss: 0.096, Accuracy: 97.8%\n",
            "Batch 450, Loss: 0.091, Accuracy: 97.0%\n",
            "Batch 500, Loss: 0.107, Accuracy: 95.6%\n",
            "Batch 550, Loss: 0.127, Accuracy: 96.6%\n",
            "Batch 600, Loss: 0.068, Accuracy: 98.0%\n",
            "Batch 650, Loss: 0.114, Accuracy: 97.2%\n",
            "\n",
            "Val Loss: 0.586, Val Accuracy: 358.7%\n",
            "-----------------------------------------------------------\n",
            "\n",
            "Test accuracy after 4 epoch(s): 73.39201083276913 %\n",
            "Epoch: 5 \n",
            "\n",
            "Batch 50, Loss: 0.117, Accuracy: 96.0%\n",
            "Batch 100, Loss: 0.123, Accuracy: 95.8%\n",
            "Batch 150, Loss: 0.117, Accuracy: 96.2%\n",
            "Batch 200, Loss: 0.096, Accuracy: 97.2%\n",
            "Batch 250, Loss: 0.107, Accuracy: 97.0%\n",
            "Batch 300, Loss: 0.115, Accuracy: 95.8%\n",
            "Batch 350, Loss: 0.100, Accuracy: 97.6%\n",
            "Batch 400, Loss: 0.079, Accuracy: 97.8%\n",
            "Batch 450, Loss: 0.107, Accuracy: 97.0%\n",
            "Batch 500, Loss: 0.055, Accuracy: 98.4%\n",
            "Batch 550, Loss: 0.094, Accuracy: 97.2%\n",
            "Batch 600, Loss: 0.067, Accuracy: 97.4%\n",
            "Batch 650, Loss: 0.103, Accuracy: 97.2%\n",
            "\n",
            "Val Loss: 0.515, Val Accuracy: 389.0%\n",
            "-----------------------------------------------------------\n",
            "\n",
            "Test accuracy after 5 epoch(s): 78.26675693974272 %\n",
            "Finished Training\n"
          ]
        }
      ]
    }
  ]
}